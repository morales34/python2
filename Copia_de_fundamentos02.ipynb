{
  "nbformat": 4,
  "nbformat_minor": 0,
  "metadata": {
    "colab": {
      "name": "Copia de  fundamentos02.ipynb ",
      "provenance": [],
      "authorship_tag": "ABX9TyOkhoZKTDY7gRAf0B8JM59Y",
      "include_colab_link": true
    },
    "kernelspec": {
      "name": "python3",
      "display_name": "Python 3"
    },
    "language_info": {
      "name": "python"
    }
  },
  "cells": [
    {
      "cell_type": "markdown",
      "metadata": {
        "id": "view-in-github",
        "colab_type": "text"
      },
      "source": [
        "<a href=\"https://colab.research.google.com/github/morales34/python2/blob/main/Copia_de_fundamentos02.ipynb\" target=\"_parent\"><img src=\"https://colab.research.google.com/assets/colab-badge.svg\" alt=\"Open In Colab\"/></a>"
      ]
    },
    {
      "cell_type": "code",
      "execution_count": null,
      "metadata": {
        "colab": {
          "base_uri": "https://localhost:8080/"
        },
        "id": "NOz9dTfvXcGp",
        "outputId": "b7a9426d-5a05-413a-ec66-6f3fef54fa05"
      },
      "outputs": [
        {
          "output_type": "stream",
          "name": "stdout",
          "text": [
            "Ingrese el lado del cuadrado a calcular : 17.5\n",
            "El area del cuadrado de 17.5Cm es : 70.0 Cm\n"
          ]
        }
      ],
      "source": [
        "\"\"\" realizar la carga del lado de un cuadrado, mostrar por pantalla el perimetro del mismo (el perimetro de un cuadrodo se calcula multiplicando el valor del lado por cuatro).\"\"\"\n",
        "\n",
        "# Entrada de datos \n",
        "lado= float (input(\"Ingrese el lado del cuadrado a calcular : \"))\n",
        "#operaciones \n",
        "perimetro =(lado *4)\n",
        "#salida de datos \n",
        "print(f\"El area del cuadrado de {lado}Cm es : {perimetro} Cm\")\n"
      ]
    },
    {
      "cell_type": "code",
      "source": [
        "\"\"\" escribir un programa en el cual se ingresen cuatro numeros, calcular e informar la suma de los dos numeros primeros y el producto del trercero y el cuatro.\"\"\"\n",
        "\n",
        "#entrada de datos \n",
        "numero1 = int (input(\"ingrese el primer valor \"))\n",
        "numero2 = int (input(\"ingrese el segundo valor \"))\n",
        "numero3 = int (input(\"ingrese el tercero valor \"))\n",
        "numero4 = int (input(\"ingrese el cuarto valor \"))\n",
        "#operaciones \n",
        "suma= numero1 + numero2\n",
        "multiplicar= numero4 * numero4\n",
        "\n",
        "#salida de datos \n",
        "print(\"la suma de los dos primeros valores es :\", suma )\n",
        "\n",
        "print(\"la multiplicacion de los dos ultimus valores es :\", multiplicar)\n",
        "\n",
        "\n",
        "\n",
        "\n",
        "\n"
      ],
      "metadata": {
        "id": "nYw9NI52cmPq",
        "outputId": "baccb901-e9a1-40c4-aa6f-c78bed7a12b5",
        "colab": {
          "base_uri": "https://localhost:8080/"
        }
      },
      "execution_count": null,
      "outputs": [
        {
          "output_type": "stream",
          "name": "stdout",
          "text": [
            "ingrese el primer valor 2\n",
            "ingrese el segundo valor 2\n",
            "ingrese el tercero valor 2\n",
            "ingrese el cuarto valor 2\n",
            "la suma de los dos primeros valores es : 4\n",
            "la multiplicacion de los dos ultimus valores es : 4\n"
          ]
        }
      ]
    },
    {
      "cell_type": "code",
      "source": [
        "\"\"\" realiza la carga de dos nombres de personas distintos .mostrar por pantalla luego ordenados en forma alfabetica.\"\"\"\n",
        "#Ciclo For \n",
        "\n",
        "\n",
        "\n",
        "#entrada de datos\n",
        "entr_nom=['david','william','mariana','angela']\n",
        "\n",
        "\n",
        "#operacion\n",
        "nom_list=entr_nom\n",
        "print(\"Implimir los nombres ingresados: \")\n",
        "for nombre  in nom_list : \n",
        "  print (\"desordenados:\",nombre)\n",
        "\n",
        "entr_nom . sort()\n",
        "\n",
        " \n",
        "#salida de datos \n",
        "print ('******************************')\n",
        "\n",
        "print ('implimir los nombres ordenados decendente ')\n",
        "for nombre2 in entr_nom: \n",
        "  print('ordenados',nombre2)\n",
        "\n",
        "\n",
        "entr_nom.sort (reverse=True)\n",
        "\n",
        "print ('******************************')\n",
        "print ('implimir los nombres ordenados ascendente')\n",
        "for nombre2 in entr_nom: \n",
        "  print('ascendente',nombre2)\n",
        "\n",
        "#entr_nom.sort (reverse=true)\n",
        "\n",
        "\n"
      ],
      "metadata": {
        "id": "QqONh_IYeEWx",
        "outputId": "298b42cc-5353-425f-f852-0a718791b2c4",
        "colab": {
          "base_uri": "https://localhost:8080/"
        }
      },
      "execution_count": null,
      "outputs": [
        {
          "output_type": "stream",
          "name": "stdout",
          "text": [
            "Implimir los nombres ingresados: \n",
            "desordenados: david\n",
            "desordenados: william\n",
            "desordenados: mariana\n",
            "desordenados: angela\n",
            "******************************\n",
            "implimir los nombres ordenados decendente \n",
            "ordenados angela\n",
            "ordenados david\n",
            "ordenados mariana\n",
            "ordenados william\n",
            "******************************\n",
            "implimir los nombres ordenados ascendente\n",
            "ascendente william\n",
            "ascendente mariana\n",
            "ascendente david\n",
            "ascendente angela\n"
          ]
        }
      ]
    },
    {
      "cell_type": "code",
      "source": [
        "\"\"\"realiza la carga por toclado del nombre , edad y altura de dos personas . mostrar por pantalla el nombre de la persona con mayor altura \"\"\"\n",
        "\n",
        "print(\"Datos de la primer persona\")\n",
        "nombre1=input(\"Ingrese nombre:\")\n",
        "edad1=int(input(\"Ingrese la edad:\"))\n",
        "altura1=float(input(\"Ingrese la altura:\"))\n",
        "print(\"Datos de la segunda persona\")\n",
        "nombre2=input(\"Ingrese nombre:\")\n",
        "edad2=int(input(\"Ingrese la edad:\"))\n",
        "altura2=float(input(\"Ingrese la altura :\"))\n",
        "print(\"La persona mas alta es:\")\n",
        "if altura1>altura2:\n",
        "    print(nombre1)\n",
        "else:\n",
        "    print(nombre2)\n",
        "    \n",
        "\n",
        "\n",
        "\n"
      ],
      "metadata": {
        "id": "reSauMYTrb63",
        "colab": {
          "base_uri": "https://localhost:8080/"
        },
        "outputId": "3ca5bb88-b2ce-429f-e6b4-893d476b9b87"
      },
      "execution_count": null,
      "outputs": [
        {
          "output_type": "stream",
          "name": "stdout",
          "text": [
            "Datos de la primer persona\n",
            "Ingrese nombre:lissseth\n",
            "Ingrese la edad:12\n",
            "Ingrese la altura Ej 1.75:12.5\n",
            "Datos de la segunda persona\n",
            "Ingrese nombre:yesica\n",
            "Ingrese la edad:15\n",
            "Ingrese la altura Ej 1.75:111111115\n",
            "La persona mas alta es:\n",
            "yesica\n"
          ]
        }
      ]
    },
    {
      "cell_type": "code",
      "source": [
        "\"\"\" realizar la carga de dos nombres por teclado . mostrar cual de los dos es mayor alfabeticamante o si son iguales \"\"\"\n",
        "\n",
        "#entrada de datos \n",
        "nombre1=input(\"Ingrese el primer nombre:\")\n",
        "nombre2=input(\"Ingrese el segundo nombre:\")\n",
        "#operaciones \n",
        "if nombre1==nombre2:\n",
        "    print(\"Ingreso dos nombre iguales\")\n",
        "#salida de datos \n",
        "else:\n",
        "    if nombre1>nombre2:\n",
        "        print(nombre1)\n",
        "        print(\"es mayor alfabeticamente\")\n",
        "    else:\n",
        "        print(nombre2)\n",
        "        print(\"es mayor alfabeticamente\")\n"
      ],
      "metadata": {
        "id": "v870nVTBsBCW",
        "colab": {
          "base_uri": "https://localhost:8080/"
        },
        "outputId": "08b82415-f6bf-46d6-9944-5b817c3f98e7"
      },
      "execution_count": null,
      "outputs": [
        {
          "output_type": "stream",
          "name": "stdout",
          "text": [
            "Ingrese el primer nombre:de\n",
            "Ingrese el segundo nombre:ve\n",
            "ve\n",
            "es mayor alfabeticamente\n"
          ]
        }
      ]
    },
    {
      "cell_type": "code",
      "source": [
        "\"\"\" realiza la carga de seis  nombres de personas distintos .mostrar por pantalla luego ordenados en forma alfabetica.\"\"\"\n",
        "#entrada de datos \n",
        "nombre1=(input(\"ingrese el primer nombre:\"))\n",
        "nombre2=(input(\"ingrese el segundo nombre:\"))\n",
        "nombre3=(input(\"ingrese el tercero nombre:\"))\n",
        "nombre4=(input(\"ingrese el cuarto nombre:\"))\n",
        "nombre5=(input(\"ingrese el quinto nombre:\"))\n",
        "nombre6=(input(\"ingrese el sexto nombre:\"))\n",
        "\n",
        "print(\"listado en orden alfebetico\")\n",
        "\n",
        "#operaciones \n",
        "if nombre1<nombre2<nombre3<nombre4<nombre5<nombre6:\n",
        "    print(nombre1)\n",
        "    print(nombre2)\n",
        "    print(nombre3)\n",
        "    print(nombre4)\n",
        "    print(nombre5)\n",
        "    print(nombre6)\n",
        "\n",
        "else :\n",
        "  print(nombre6)\n",
        "  print(nombre5)\n",
        "  print(nombre4)\n",
        "  print(nombre3)\n",
        "  print(nombre2)\n",
        "  print(nombre1)\n",
        "\n",
        "# salida de datos \n",
        "\n",
        "\n",
        "  \n",
        "\n",
        "\n",
        "\n",
        "\n",
        "\n"
      ],
      "metadata": {
        "colab": {
          "base_uri": "https://localhost:8080/"
        },
        "id": "wg6bo3DmoSiH",
        "outputId": "04698859-9bc3-4c3d-e4b4-bbfbafc77fc9"
      },
      "execution_count": null,
      "outputs": [
        {
          "output_type": "stream",
          "name": "stdout",
          "text": [
            "ingrese el primer nombre:y\n",
            "ingrese el segundo nombre:u\n",
            "ingrese el tercero nombre:g\n",
            "ingrese el cuarto nombre:b\n",
            "ingrese el quinto nombre:a\n",
            "ingrese el sexto nombre:d\n",
            "listado en orden alfebetico\n",
            "d\n",
            "a\n",
            "b\n",
            "g\n",
            "u\n",
            "y\n"
          ]
        }
      ]
    }
  ]
}